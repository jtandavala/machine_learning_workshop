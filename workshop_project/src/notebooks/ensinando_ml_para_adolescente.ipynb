{
 "cells": [
  {
   "cell_type": "markdown",
   "metadata": {},
   "source": [
    "### 1 - Descreva o problema e prepare o conjunto de dados\n",
    "\n",
    "A fase de descrição do problema e preparação do conjunto de dados é uma das etapas mais críticas em um projeto de aprendizado de máquina. Ela envolve definir claramente o que se deseja resolver e preparar os dados necessários para treinar e avaliar o modelo"
   ]
  },
  {
   "cell_type": "markdown",
   "metadata": {},
   "source": [
    "A título de exemplo, vamos utilizar o Pima Indians Diabetes Dataset, um dos conjuntos de dados mais renomados na área de aprendizado de máquina e estatística, especialmente voltado para problemas de classificação. Este dataset é amplamente utilizado para prever a ocorrência de diabetes em mulheres da tribo Pima, localizada no sudoeste dos Estados Unidos, com base em diversas medições biométricas."
   ]
  },
  {
   "cell_type": "markdown",
   "metadata": {},
   "source": [
    "O objetivo é construir modelos preditivos capazes de identificar a probabilidade de desenvolvimento de diabetes, considerando fatores como número de gravidezes, níveis de glicose no sangue, pressão arterial, índice de massa corporal, idade, entre outros"
   ]
  },
  {
   "cell_type": "markdown",
   "metadata": {},
   "source": [
    "##### NOTA: Variáveis Presentes no Dataset\n",
    "\n",
    "| Nome da Variável            | Descrição                                                               |\n",
    "|-----------------------------|-------------------------------------------------------------------------|\n",
    "| `Pregnancies`               | Número de vezes que a paciente ficou grávida.                           |\n",
    "| `Glucose`                   | Concentração de glicose no plasma a 2 horas em um teste de tolerância à glicose. |\n",
    "| `BloodPressure`             | Pressão arterial diastólica (mm Hg).                                    |\n",
    "| `SkinThickness`             | Espessura da dobra cutânea do tríceps (mm).                             |\n",
    "| `Insulin`                   | Nível de insulina sérica (mu U/ml).                                     |\n",
    "| `BMI`                       | Índice de massa corporal (peso em kg/(altura em m²)).                   |\n",
    "| `DiabetesPedigreeFunction`   | Função de pedigree do diabetes (histórico familiar).                    |\n",
    "| `Age`                       | Idade da paciente (anos).                                               |\n",
    "| `Outcome`                   | Classe alvo (0 = não tem diabetes, 1 = tem diabetes).                   |\n"
   ]
  }
 ],
 "metadata": {
  "language_info": {
   "name": "python"
  }
 },
 "nbformat": 4,
 "nbformat_minor": 2
}
